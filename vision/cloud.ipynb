{
 "cells": [
  {
   "cell_type": "code",
   "execution_count": 3,
   "id": "c4e4a225",
   "metadata": {},
   "outputs": [],
   "source": [
    "import open3d as o3d\n",
    "import numpy as np\n",
    "\n",
    "\n",
    "pcd = o3d.io.read_point_cloud(\"../merged_aligned1.ply\")"
   ]
  },
  {
   "cell_type": "code",
   "execution_count": 12,
   "id": "60550466",
   "metadata": {},
   "outputs": [
    {
     "name": "stdout",
     "output_type": "stream",
     "text": [
      "Found 7 clusters.\n"
     ]
    }
   ],
   "source": [
    "# Step 1: Statistical outlier removal\n",
    "pcd_clean, ind = pcd.remove_statistical_outlier(nb_neighbors=20, std_ratio=0.05)\n",
    "\n",
    "# Step 2: Downsample\n",
    "pcd_down = pcd_clean.voxel_down_sample(voxel_size=0.02)\n",
    "\n",
    "# Step 3: Estimate normals (required for some clustering tools)\n",
    "pcd_down.estimate_normals(search_param=o3d.geometry.KDTreeSearchParamKNN(knn=30))\n",
    "\n",
    "# Step 4: Cluster based on density (DBSCAN)\n",
    "labels = np.array(pcd_down.cluster_dbscan(eps=0.03, min_points=20))\n",
    "max_label = labels.max()\n",
    "print(f\"Found {max_label + 1} clusters.\")\n",
    "\n",
    "# Step 5: Get the biggest cluster (assumed to be the detail)\n",
    "counts = [(i, np.sum(labels == i)) for i in range(max_label + 1)]\n",
    "best_label = max(counts, key=lambda x: x[1])[0]\n",
    "detail = pcd_down.select_by_index(np.where(labels == best_label)[0])\n",
    "\n",
    "# Step 6: Bounding box around it\n",
    "aabb = detail.get_axis_aligned_bounding_box()\n",
    "aabb.color = (1, 0, 0)\n",
    "\n",
    "# Visualize\n",
    "o3d.visualization.draw_geometries([pcd_down, aabb], window_name=\"Auto-segmented object\")"
   ]
  },
  {
   "cell_type": "code",
   "execution_count": 15,
   "id": "302abb33",
   "metadata": {},
   "outputs": [
    {
     "name": "stdout",
     "output_type": "stream",
     "text": [
      "Found 8 clustersbors.[=>                                      ] 2%\n",
      "Showing cluster 0, points: 20\n",
      "Precompute neighbors.[========================================] 100%\n",
      "Showing cluster 1, points: 26                      ] 2%\n",
      "Showing cluster 2, points: 20\n",
      "Showing cluster 3, points: 29\n",
      "Showing cluster 4, points: 21\n",
      "Showing cluster 5, points: 21\n",
      "Showing cluster 6, points: 22\n",
      "Showing cluster 7, points: 17\n"
     ]
    }
   ],
   "source": [
    "import time\n",
    "# Step 1: Remove outliers\n",
    "pcd_clean, _ = pcd.remove_statistical_outlier(nb_neighbors=20, std_ratio=0.005)\n",
    "\n",
    "# Step 2: Downsample\n",
    "pcd_down = pcd_clean.voxel_down_sample(voxel_size=0.02)\n",
    "\n",
    "# Step 3: Estimate normals\n",
    "pcd_down.estimate_normals(search_param=o3d.geometry.KDTreeSearchParamKNN(knn=30))\n",
    "\n",
    "# Step 4: DBSCAN clustering\n",
    "labels = np.array(pcd_down.cluster_dbscan(eps=0.03, min_points=20, print_progress=True))\n",
    "n_clusters = labels.max() + 1\n",
    "print(f\"Found {n_clusters} clusters\")\n",
    "\n",
    "# Step 5: Visualize clusters one by one\n",
    "for i in range(n_clusters):\n",
    "    cluster = pcd_down.select_by_index(np.where(labels == i)[0])\n",
    "    cluster.paint_uniform_color(np.random.rand(3))\n",
    "    print(f\"Showing cluster {i}, points: {len(cluster.points)}\")\n",
    "    o3d.visualization.draw_geometries([cluster], window_name=f\"Cluster {i}\")\n",
    "    time.sleep(0.5)  # pause if running in loop"
   ]
  },
  {
   "cell_type": "code",
   "execution_count": null,
   "id": "6dcb2f99",
   "metadata": {},
   "outputs": [],
   "source": []
  }
 ],
 "metadata": {
  "kernelspec": {
   "display_name": ".venv",
   "language": "python",
   "name": "python3"
  },
  "language_info": {
   "codemirror_mode": {
    "name": "ipython",
    "version": 3
   },
   "file_extension": ".py",
   "mimetype": "text/x-python",
   "name": "python",
   "nbconvert_exporter": "python",
   "pygments_lexer": "ipython3",
   "version": "3.9.22"
  }
 },
 "nbformat": 4,
 "nbformat_minor": 5
}
